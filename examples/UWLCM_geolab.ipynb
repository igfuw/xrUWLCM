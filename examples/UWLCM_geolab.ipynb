{
 "cells": [
  {
   "cell_type": "markdown",
   "id": "e0a9e790-146c-4775-b9c2-a6344994f98e",
   "metadata": {},
   "source": [
    "## Print out available UWLCM parameters"
   ]
  },
  {
   "cell_type": "code",
   "execution_count": null,
   "id": "c4dadeaa-77c9-445b-a2b6-aa86e493a5a8",
   "metadata": {},
   "outputs": [],
   "source": [
    "%%bash\n",
    "module load GCC/11.3.0 OpenMPI/4.1.4-mpi-thread-multiple Boost.MPI/1.79.0-mpi-thread-multiple HDF5/1.12.2-threadsafe CMake/3.23.1 Blitz++/1.0.2 2>/dev/null\n",
    "LD_LIBRARY_PATH=\"${LD_LIBRARY_PATH}:/net/pr2/projects/plgrid/plgguwicmw/geolab/lib/\" mpiexec -N 1 /net/pr2/projects/plgrid/plgguwicmw/geolab/bin/uwlcm --micro=lgrngn --help"
   ]
  },
  {
   "cell_type": "markdown",
   "id": "0a0b1a3e-2307-4c7f-84a2-e09869de9da6",
   "metadata": {},
   "source": [
    "## Simulation"
   ]
  },
  {
   "cell_type": "markdown",
   "id": "2058e89d-11d4-4b62-84f6-2239c586d96d",
   "metadata": {},
   "source": [
    "### Set simulation parameters"
   ]
  },
  {
   "cell_type": "code",
   "execution_count": null,
   "id": "363d54fa-ab98-4bb3-b7d8-8fc095fcd9b0",
   "metadata": {},
   "outputs": [],
   "source": [
    "import os.path"
   ]
  },
  {
   "cell_type": "code",
   "execution_count": null,
   "id": "bde558b5-c692-4d8b-a9ec-8f331d6aeae2",
   "metadata": {},
   "outputs": [],
   "source": [
    "outdir = os.path.expandvars(\"$SCRATCH/outdir_test/\")"
   ]
  },
  {
   "cell_type": "markdown",
   "id": "f2aa3ff4-b228-483e-a35d-8505c65e182e",
   "metadata": {},
   "source": [
    "#### blk_1m microphysics"
   ]
  },
  {
   "cell_type": "code",
   "execution_count": null,
   "id": "1d47ab51-7c5f-411b-a364-cac27e026c76",
   "metadata": {},
   "outputs": [],
   "source": [
    "rt_params = {\n",
    "    \"outdir\" : outdir,\n",
    "    \"case\"   : \"moist_thermal\",\n",
    "    \"nx\"     : \"121\",\n",
    "    \"ny\"     : \"0\", # ny>0 makes the simulation 3D\n",
    "    \"nz\"     : \"121\",\n",
    "    \"dt\"     : \"1\",\n",
    "    \"nt\"     : \"600\",\n",
    "    \"micro\"  : \"blk_1m\",\n",
    "    \"outfreq\": \"10\"\n",
    "}"
   ]
  },
  {
   "cell_type": "markdown",
   "id": "7398cbe1-b472-4040-aacd-01eeaa415784",
   "metadata": {},
   "source": [
    "#### Lagrangian microphysics"
   ]
  },
  {
   "cell_type": "code",
   "execution_count": null,
   "id": "7546100b-a644-4f5f-a011-0bb34310472d",
   "metadata": {},
   "outputs": [],
   "source": [
    "# 91 x 91 x 61 nt 600 takes about 20 min on 16 cores and 1 GPU\n",
    "rt_params = {\n",
    "    \"outdir\" : outdir,\n",
    "    \"case\"   : \"moist_thermal\",\n",
    "    \"nx\"     : \"181\",\n",
    "    \"ny\"     : \"0\", # ny>0 makes the simulation 3D\n",
    "    \"nz\"     : \"121\",\n",
    "    \"dt\"     : \"1\",\n",
    "    \"nt\"     : \"600\",\n",
    "    \"micro\"  : \"lgrngn\",\n",
    "    \"outfreq\": \"30\",\n",
    "    \"outwindow\" : \"1\",\n",
    "    \"sgs\"       : \"1\",\n",
    "    \"sd_conc\"   : \"1000\",\n",
    "    \"sstp_cond\"  : \"2\",\n",
    "    \"sstp_coal\"  : \"2\",\n",
    "    \"coal\"  : \"0\", # don't model collision-coalescence\n",
    "    \"case_n_stp_multiplier\" : \"1\",\n",
    "    \"aerosol_independent_of_rhod\" : \"1\",\n",
    "    \"backend\" : \"CUDA\" # use multi_CUDA in case of multiple GPUs\n",
    "}"
   ]
  },
  {
   "cell_type": "code",
   "execution_count": null,
   "id": "57571bbe-fbd8-414f-9460-478c926e8627",
   "metadata": {},
   "outputs": [],
   "source": [
    "# Converting dictionary to string\n",
    "rt_params_str = \" \".join(f\"\\-\\-{k}={v}\" for k, v in rt_params.items())"
   ]
  },
  {
   "cell_type": "markdown",
   "id": "ace8d290-7e28-4611-87cb-6044ad37c26a",
   "metadata": {},
   "source": [
    "### Run the model"
   ]
  },
  {
   "cell_type": "code",
   "execution_count": null,
   "id": "d0b19e59-a76f-4cfa-ab75-305f5bf61236",
   "metadata": {},
   "outputs": [],
   "source": [
    "%%bash -s \"{rt_params_str}\"\n",
    "module load GCC/11.3.0 OpenMPI/4.1.4-mpi-thread-multiple Boost.MPI/1.79.0-mpi-thread-multiple HDF5/1.12.2-threadsafe CMake/3.23.1 Blitz++/1.0.2 2>/dev/null\n",
    "# LD_LIBRARY_PATH=\"${LD_LIBRARY_PATH}:/net/pr2/projects/plgrid/plgguwicmw/geolab/lib/\" mpiexec -quiet -N 1 /net/pr2/projects/plgrid/plgguwicmw/geolab/bin/uwlcm ${1//\\\\}\n",
    "LD_LIBRARY_PATH=\"${LD_LIBRARY_PATH}:/net/people/plgrid/plgpdziekan/builds_with_mpi/lib/\" mpiexec -N 1 /net/people/plgrid/plgpdziekan/builds_with_mpi/bin/uwlcm ${1//\\\\}"
   ]
  },
  {
   "cell_type": "markdown",
   "id": "5303961c-ca99-43ed-bec4-01cacc2955e6",
   "metadata": {},
   "source": [
    "## Result analysis"
   ]
  },
  {
   "cell_type": "code",
   "execution_count": null,
   "id": "f4aaef0a-e6d8-460d-afcb-39b2b90b1842",
   "metadata": {},
   "outputs": [],
   "source": [
    "import importlib\n",
    "import matplotlib.pyplot as plt\n",
    "import numpy as np\n",
    "import xrUWLCM as xrU\n",
    "import math\n",
    "\n",
    "#from xhistogram.xarray import histogram\n",
    "import xarray as xr"
   ]
  },
  {
   "cell_type": "code",
   "execution_count": null,
   "id": "f35fa74a-b5eb-43fb-b51a-e33a855f3d84",
   "metadata": {},
   "outputs": [],
   "source": [
    "# load the data\n",
    "data, data_DSD = xrU.load_outdir(outdir)\n",
    "data = xrU.calc_all(data).pipe(xrU.convert_units)"
   ]
  },
  {
   "cell_type": "markdown",
   "id": "69e0b849-dcf7-4b4f-a2e3-8ae2fc98041d",
   "metadata": {},
   "source": [
    "### Print DataSet content"
   ]
  },
  {
   "cell_type": "code",
   "execution_count": null,
   "id": "b0ec43d1-41d3-4892-a5f1-a57dff589c6a",
   "metadata": {},
   "outputs": [],
   "source": [
    "data #variables of particular interest: nc, nr, rc, rr, cloud_r_mean, rain_r_mean, cloud_sigma, rain_sigma"
   ]
  },
  {
   "cell_type": "markdown",
   "id": "0b8baa6f-4645-4fea-8995-5e0c6136a641",
   "metadata": {},
   "source": [
    "### Example plots"
   ]
  },
  {
   "cell_type": "code",
   "execution_count": null,
   "id": "65b58327-1b4c-48a8-b131-b0caae9b3157",
   "metadata": {},
   "outputs": [],
   "source": [
    "# showing cloud water content\n",
    "time = np.array([[60., 120, 180, 240], [300, 360, 420, 480]]) # [s]\n",
    "nrow = len(time)\n",
    "ncol = 0\n",
    "for row in time:\n",
    "    ncol = max(ncol, len(row))\n",
    "fig, axs = plt.subplots(nrow, ncol, figsize = (ncol*3, nrow*3))\n",
    "#data.rain_r_mean.sel(t=time/3600, method='nearest').plot(x='x')\n",
    "for i, t in enumerate(time.flatten()):\n",
    "    ax = axs.flatten()[i]\n",
    "    rc = data.rc.sel(t=t/3600, method='nearest').plot(x='x', ax=ax, add_colorbar=False)\n",
    "    ax.set_title('')\n",
    "    ax.set_xlabel('')\n",
    "    ax.set_ylabel('')\n",
    "#data.load()#[\"latent surface flux\"].load()#plot()"
   ]
  },
  {
   "cell_type": "code",
   "execution_count": null,
   "id": "57262f2f-84d4-42db-ae5b-c5c4908585d7",
   "metadata": {},
   "outputs": [],
   "source": []
  }
 ],
 "metadata": {
  "kernelspec": {
   "display_name": "Python 3 (ipykernel)",
   "language": "python",
   "name": "python3"
  },
  "language_info": {
   "codemirror_mode": {
    "name": "ipython",
    "version": 3
   },
   "file_extension": ".py",
   "mimetype": "text/x-python",
   "name": "python",
   "nbconvert_exporter": "python",
   "pygments_lexer": "ipython3",
   "version": "3.11.5"
  }
 },
 "nbformat": 4,
 "nbformat_minor": 5
}
