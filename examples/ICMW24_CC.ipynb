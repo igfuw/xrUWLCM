{
 "cells": [
  {
   "cell_type": "code",
   "execution_count": 1,
   "id": "8816c1f9-0833-43e4-bdfe-35b8be66bf80",
   "metadata": {},
   "outputs": [],
   "source": [
    "# not needed - package were installed using pip in terminal with python3.11.5 (kernel used here)\n",
    "#! pip install matplotlib\n",
    "#! pip install xarray\n",
    "#! pip install xhistogram\n",
    "#! pip install h5netcdf\n",
    "#! pip install scipy\n",
    "#! pip install netCDF4-python"
   ]
  },
  {
   "cell_type": "code",
   "execution_count": 1,
   "id": "4be41a14-5270-48e6-b50c-75d24eab5691",
   "metadata": {},
   "outputs": [],
   "source": [
    "\n",
    "import importlib\n",
    "import matplotlib.pyplot as plt\n",
    "import numpy as np\n",
    "import xrUWLCM as xrU\n",
    "\n",
    "\n",
    "#from xhistogram.xarray import histogram\n",
    "import xarray as xr"
   ]
  },
  {
   "cell_type": "code",
   "execution_count": 2,
   "id": "89b8ac46-f128-43ef-8e79-c5279862bbae",
   "metadata": {},
   "outputs": [],
   "source": [
    "pgsdir = '/net/pr2/projects/plgrid/plgguwicmw/wyniki/icmw24_cc/'\n",
    "figoutdir = '/net/people/plgrid/plgpdziekan/wyniki/icmw24_cc/figs/'\n",
    "ncoutdir = '/net/people/plgrid/plgpdziekan/wyniki/icmw24_cc/netcdf/'\n",
    "\n",
    "datadir = {}\n",
    "\n",
    "datadir['regular'] = {}\n",
    "datadir['regular']['50m'] = {}\n",
    "datadir['regular']['50m']['SD128'] = pgsdir + \"14_08_2024_out_UWLCM_icmw24_cc_regular_SMG_res50m_sd128_mpi1x8_out_lgrngn/\" \n",
    "\n",
    "datadir['clean'] = {}\n",
    "\n",
    "datadir['polluted'] = {}\n",
    "\n",
    "datadir['regular_noGCCN'] = {}\n",
    "datadir['regular_noGCCN']['50m'] = {}\n",
    "#datadir['regular_noGCCN']['50m_SD16'] = pgsdir + \"12_08_2024_out_UWLCM_icmw24_cc_SurfFix_SMG_res50m_sd16_mpi1x8_out_lgrngn/\" \n",
    "datadir['regular_noGCCN']['50m']['SD128'] = pgsdir + \"12_08_2024_out_UWLCM_icmw24_cc_regular_noGCCN_SMG_res50m_sd128_mpi1x8_out_lgrngn/\" \n",
    "\n",
    "\n",
    "datadir['regular_ILES'] = {}\n",
    "datadir['regular_ILES']['50m'] = {}\n",
    "datadir['regular_ILES']['50m']['SD128'] = pgsdir + \"20_08_2024_out_UWLCM_icmw24_cc_regular_ILES_res50m_sd128_mpi1x8_out_lgrngn/\" \n"
   ]
  },
  {
   "cell_type": "code",
   "execution_count": 3,
   "id": "83e39e54-69ee-46cb-ba21-82db50d10489",
   "metadata": {
    "scrolled": true
   },
   "outputs": [
    {
     "name": "stdout",
     "output_type": "stream",
     "text": [
      "Group sgs not found in /net/pr2/projects/plgrid/plgguwicmw/wyniki/icmw24_cc/20_08_2024_out_UWLCM_icmw24_cc_regular_ILES_res50m_sd128_mpi1x8_out_lgrngn/const.h5\n",
      "Group user_params not found in /net/pr2/projects/plgrid/plgguwicmw/wyniki/icmw24_cc/20_08_2024_out_UWLCM_icmw24_cc_regular_ILES_res50m_sd128_mpi1x8_out_lgrngn/const.h5\n",
      "CPU times: user 7.28 s, sys: 854 ms, total: 8.13 s\n",
      "Wall time: 19.5 s\n"
     ]
    },
    {
     "name": "stderr",
     "output_type": "stream",
     "text": [
      "/net/people/plgrid/plgpdziekan/.local/lib/python3.11/site-packages/numpy/lib/_nanfunctions_impl.py:1634: RuntimeWarning: All-NaN slice encountered\n",
      "  return fnb._ureduce(a,\n",
      "/net/people/plgrid/plgpdziekan/.local/lib/python3.11/site-packages/numpy/lib/_nanfunctions_impl.py:1634: RuntimeWarning: All-NaN slice encountered\n",
      "  return fnb._ureduce(a,\n",
      "/net/people/plgrid/plgpdziekan/.local/lib/python3.11/site-packages/numpy/lib/_nanfunctions_impl.py:1634: RuntimeWarning: All-NaN slice encountered\n",
      "  return fnb._ureduce(a,\n",
      "/net/people/plgrid/plgpdziekan/.local/lib/python3.11/site-packages/numpy/lib/_nanfunctions_impl.py:1634: RuntimeWarning: All-NaN slice encountered\n",
      "  return fnb._ureduce(a,\n",
      "/net/people/plgrid/plgpdziekan/.local/lib/python3.11/site-packages/dask/core.py:127: RuntimeWarning: invalid value encountered in sqrt\n",
      "  return func(*(_execute_task(a, cache) for a in args))\n",
      "/net/people/plgrid/plgpdziekan/.local/lib/python3.11/site-packages/dask/core.py:127: RuntimeWarning: invalid value encountered in sqrt\n",
      "  return func(*(_execute_task(a, cache) for a in args))\n",
      "/net/people/plgrid/plgpdziekan/.local/lib/python3.11/site-packages/dask/core.py:127: RuntimeWarning: invalid value encountered in sqrt\n",
      "  return func(*(_execute_task(a, cache) for a in args))\n",
      "/net/people/plgrid/plgpdziekan/.local/lib/python3.11/site-packages/dask/core.py:127: RuntimeWarning: invalid value encountered in sqrt\n",
      "  return func(*(_execute_task(a, cache) for a in args))\n",
      "/net/people/plgrid/plgpdziekan/.local/lib/python3.11/site-packages/numpy/lib/_nanfunctions_impl.py:1634: RuntimeWarning: All-NaN slice encountered\n",
      "  return fnb._ureduce(a,\n",
      "/net/people/plgrid/plgpdziekan/.local/lib/python3.11/site-packages/numpy/lib/_nanfunctions_impl.py:1634: RuntimeWarning: All-NaN slice encountered\n",
      "  return fnb._ureduce(a,\n",
      "/net/people/plgrid/plgpdziekan/.local/lib/python3.11/site-packages/numpy/lib/_nanfunctions_impl.py:1634: RuntimeWarning: All-NaN slice encountered\n",
      "  return fnb._ureduce(a,\n",
      "/net/people/plgrid/plgpdziekan/.local/lib/python3.11/site-packages/numpy/lib/_nanfunctions_impl.py:1634: RuntimeWarning: All-NaN slice encountered\n",
      "  return fnb._ureduce(a,\n",
      "/net/people/plgrid/plgpdziekan/.local/lib/python3.11/site-packages/numpy/lib/_nanfunctions_impl.py:1634: RuntimeWarning: All-NaN slice encountered\n",
      "  return fnb._ureduce(a,\n",
      "/net/people/plgrid/plgpdziekan/.local/lib/python3.11/site-packages/numpy/lib/_nanfunctions_impl.py:1634: RuntimeWarning: All-NaN slice encountered\n",
      "  return fnb._ureduce(a,\n"
     ]
    }
   ],
   "source": [
    "%%time\n",
    "\n",
    "#aerosol_to_plot='clean'\n",
    "#aerosol_to_plot='regular'\n",
    "#aerosol_to_plot='polluted'\n",
    "#aerosol_to_plot='regular_noGCCN'\n",
    "aerosol_to_plot='regular_ILES'\n",
    "resolution_to_plot='50m'\n",
    "\n",
    "#aerosol_to_plot='regular_thprtrb'\n",
    "\n",
    "#datadir['test'] = '/home/piotr/praca/code/UWLCM/build/outdir/'\n",
    "data = {}\n",
    "data_DSD = {}\n",
    "for sdname,dir in datadir[aerosol_to_plot][resolution_to_plot].items():\n",
    "    data[sdname], data_DSD[sdname] = xrU.load_outdir(dir)\n",
    "    data[sdname] = xrU.calc_all(data[sdname]).pipe(xrU.convert_units)\n",
    "    data[sdname] = xrU.calc_cloud_base(data[sdname], data[sdname].rc>0.1)\n",
    "    data[sdname] = xrU.calc_cloud_top(data[sdname], data[sdname].rc>0.1)\n",
    "    #data_DSD[sdname] = xrU.calc_all(data_DSD[sdname]).pipe(xrU.convert_units)"
   ]
  },
  {
   "cell_type": "code",
   "execution_count": 5,
   "id": "b88bf4db-4765-4a0d-a425-9e558e7f5cb1",
   "metadata": {},
   "outputs": [
    {
     "ename": "KeyError",
     "evalue": "'100m_SD32'",
     "output_type": "error",
     "traceback": [
      "\u001b[0;31m---------------------------------------------------------------------------\u001b[0m",
      "\u001b[0;31mKeyError\u001b[0m                                  Traceback (most recent call last)",
      "Cell \u001b[0;32mIn[5], line 1\u001b[0m\n\u001b[0;32m----> 1\u001b[0m \u001b[43mdata\u001b[49m\u001b[43m[\u001b[49m\u001b[38;5;124;43m'\u001b[39;49m\u001b[38;5;124;43m100m_SD32\u001b[39;49m\u001b[38;5;124;43m'\u001b[39;49m\u001b[43m]\u001b[49m\u001b[38;5;241m.\u001b[39mto_netcdf(\u001b[38;5;124m\"\u001b[39m\u001b[38;5;124m/home/piotr/praca/ICMW2024_CC/test\u001b[39m\u001b[38;5;124m\"\u001b[39m)\n",
      "\u001b[0;31mKeyError\u001b[0m: '100m_SD32'"
     ]
    }
   ],
   "source": [
    "data['100m_SD32'].to_netcdf(\"/home/piotr/praca/ICMW2024_CC/test\")"
   ]
  },
  {
   "cell_type": "code",
   "execution_count": null,
   "id": "f3be21cb-9f64-4c5b-87f4-82051cbd339a",
   "metadata": {},
   "outputs": [],
   "source": [
    "#data['100m_blk1m']\n",
    "data['100m_SD32']"
   ]
  },
  {
   "cell_type": "code",
   "execution_count": null,
   "id": "a1da621f-6190-4e85-8467-d37a32102772",
   "metadata": {},
   "outputs": [],
   "source": [
    "data['100m_blk1m'].w.mean([\"x\",\"y\",\"z\"]).plot(label='thprtrb', xlim=(60,None))\n",
    "dataregular, dataregular_DSD = xrU.load_outdir(datadir['regular']['100m_SD32'])\n",
    "dataregular = xrU.calc_all(dataregular).pipe(xrU.convert_units)\n",
    "dataregular = xrU.calc_cloud_base(dataregular, dataregular.qc>0.1)\n",
    "dataregular = xrU.calc_cloud_top(dataregular, dataregular.qc>0.1)\n",
    "dataregular.w.mean([\"x\",\"y\",\"z\"]).plot(label='normal', xlim=(60,None))\n",
    "plt.legend()"
   ]
  },
  {
   "cell_type": "markdown",
   "id": "711df473-98ce-4989-af16-97b2113e8d6d",
   "metadata": {},
   "source": [
    "## CFADs"
   ]
  },
  {
   "cell_type": "code",
   "execution_count": 6,
   "id": "2eceff84-977a-438e-9334-5b1cb15dbf1b",
   "metadata": {},
   "outputs": [
    {
     "name": "stdout",
     "output_type": "stream",
     "text": [
      "CPU times: user 2min 52s, sys: 44.6 s, total: 3min 36s\n",
      "Wall time: 1min 28s\n"
     ]
    },
    {
     "data": {
      "text/plain": [
       "<Figure size 640x480 with 0 Axes>"
      ]
     },
     "metadata": {},
     "output_type": "display_data"
    }
   ],
   "source": [
    "%%time\n",
    "#CFADs\n",
    "\n",
    "plot_parameters = {\n",
    "    'rc': dict(xlim=(0,15), ylim=(0,7000), nicename='$q_c$', units='[g/kg]', xscale='linear', kwargs=dict( vmin=0, vmax=1.0)),\n",
    "    'rr': dict(xlim=(1e-10,1.2e1), ylim=(0,7000), nicename='$q_r$', units='[g/kg]', xscale='log', kwargs=dict( vmin=0, vmax=0.2)),\n",
    "    'r_mean': dict(xlim=(0,18), ylim=(0,7000), nicename='$<r>$', units='[$\\mu m$]', xscale='linear', kwargs=dict( vmin=0, vmax=0.3)),\n",
    "    'r_sigma': dict(xlim=(0,9), ylim=(0,7000), nicename='$\\sigma(r)$', units='[$\\mu m$]', xscale='linear', kwargs=dict( vmin=0, vmax=0.2)),\n",
    "    'w': dict(xlim=(-12,20), ylim=(0,7000), nicename='$w$', units='[m/s]', xscale='linear', kwargs=dict( vmin=0, vmax=0.25)),\n",
    "    'r_m6': dict(xlim=(1e-6,1e4), ylim=(0,7000), nicename='$r^6$', units='[$mm^6/m^3$]', xscale='log', kwargs=dict( vmin=0, vmax=0.5)),\n",
    "    'na': dict(xlim=(0,1e3), ylim=(0,7000), nicename='$N_a$', units='[$mg^{-1}$]', xscale='linear', kwargs=dict( vmin=0, vmax=1)),\n",
    "    'nc': dict(xlim=(0,1.5e3), ylim=(0,7000), nicename='$N_c$', units='[$mg^{-1}$]', xscale='linear', kwargs=dict( vmin=0, vmax=0.2)),\n",
    "    'nr': dict(xlim=(1e-10,1e3), ylim=(0,7000), nicename='$N_r$', units='[$mg^{-1}$]', xscale='log', kwargs=dict( vmin=0, vmax=0.25)),\n",
    "}\n",
    "\n",
    "\n",
    "for sdname in data:\n",
    "    _data = data[sdname]\n",
    "    \n",
    "    for varname, params in plot_parameters.items():\n",
    "        #xrU.plot_CFAD(_data, _data[varname].where(_data.qc>0.1), xbins=np.linspace(params['xmin'], params['xmax'], 100), ylim=(0,7000), **params)=np.linspace(params['xmin'], params['xmax'], 100), ylim=(0,7000), **params)\n",
    "        if params['xscale']=='linear':\n",
    "            xbins=np.linspace(params['xlim'][0], params['xlim'][1], 100)\n",
    "        else:\n",
    "            xbins=np.logspace(np.log10(params['xlim'][0]), np.log10(params['xlim'][1]), 100)\n",
    "        \n",
    "        xrU.plot_CFAD(_data, varname, _data.rc>0.1, xbins=xbins, **params['kwargs'])\n",
    "        \n",
    "        plt.xlim(params['xlim'])\n",
    "        plt.ylim(params['ylim'])\n",
    "        plt.xlabel(params['nicename'] + ' ' + params['units'])\n",
    "        plt.legend('',frameon=False)\n",
    "        plt.title('CFAD of ' + params['nicename'] + ' in cloudy cells')\n",
    "        plt.xscale(params['xscale'])\n",
    "        #xbins=np.linspace(params['extent'][0], params['extent'][1], 100),\n",
    "        #xrU.plot_DSD(data, data.qc>0.1, label=str(sdname))\n",
    "        #xrU.plot_DSD(data, label=str(sdname))\n",
    "        \n",
    "        #plt.show()\n",
    "        plt.savefig(figoutdir + \"/CFAD/\"+str(aerosol_to_plot)+\"/res\"+str(resolution_to_plot)+\"_\"+varname+\"_\"+sdname+\"_\"+str(aerosol_to_plot)+\"_CFAD.png\", dpi=300)\n",
    "        plt.clf()\n",
    "        \n",
    "    \n",
    "    _data.close()\n",
    "        "
   ]
  },
  {
   "cell_type": "markdown",
   "id": "741ad319-5147-4ee5-8dbb-fecde1b968a6",
   "metadata": {
    "editable": true,
    "slideshow": {
     "slide_type": ""
    },
    "tags": []
   },
   "source": [
    "## DSDs"
   ]
  },
  {
   "cell_type": "code",
   "execution_count": 7,
   "id": "47858067-9df4-43a5-afb6-9fb29b8887ea",
   "metadata": {},
   "outputs": [
    {
     "name": "stdout",
     "output_type": "stream",
     "text": [
      "CPU times: user 1min 13s, sys: 52.9 s, total: 2min 5s\n",
      "Wall time: 2min 13s\n"
     ]
    },
    {
     "data": {
      "text/plain": [
       "<Figure size 640x480 with 0 Axes>"
      ]
     },
     "metadata": {},
     "output_type": "display_data"
    }
   ],
   "source": [
    "%%time\n",
    "#DSD\n",
    "\n",
    "for z in [1000,2000,3000]:\n",
    "    for sdname in data:\n",
    "        data_DSD_z = data_DSD[sdname].sel(z=z, method='nearest')\n",
    "        data_z = data[sdname].sel(z=z, method='nearest')\n",
    "        xrU.plot_DSD(data_DSD_z, data_z.rc>0.1, label=str(sdname))\n",
    "        #xrU.plot_DSD(data_DSD_z, label=str(sdname))\n",
    "        \n",
    "    plt.xscale(\"log\")\n",
    "    plt.yscale(\"log\")\n",
    "    plt.xlim(left=0.75)\n",
    "    plt.title(\"DSD in cloudy cells at \" + str(z) + \" m\")\n",
    "    plt.xlabel(\"radius [um]\")\n",
    "    plt.ylabel('concentration density [ 1 / cc / log(um)]')\n",
    "    #plt.yscale(\"log\")\n",
    "    plt.legend()\n",
    "    #plt.show()\n",
    "    #plt.savefig(\"./ICMW24_CC_UWLCM_results/DSD/res100m_z\"+str(z)+\"m_DSD.png\")\n",
    "    plt.savefig(figoutdir + \"/DSD/res\"+str(resolution_to_plot)+\"_z\"+str(z)+\"m_\"+str(aerosol_to_plot)+\"_DSD.png\", dpi=300)\n",
    "    plt.clf()\n",
    "    "
   ]
  },
  {
   "cell_type": "markdown",
   "id": "e2ccc313-7fe7-47fb-9b5f-49e0f9bd70d9",
   "metadata": {},
   "source": [
    "## TIME SERIES"
   ]
  },
  {
   "cell_type": "code",
   "execution_count": 4,
   "id": "7eefd6bf-d37f-471d-88fc-06270dc46208",
   "metadata": {},
   "outputs": [
    {
     "name": "stdout",
     "output_type": "stream",
     "text": [
      "CPU times: user 25.6 s, sys: 5.94 s, total: 31.6 s\n",
      "Wall time: 23.7 s\n"
     ]
    },
    {
     "data": {
      "text/plain": [
       "<Figure size 640x480 with 0 Axes>"
      ]
     },
     "metadata": {},
     "output_type": "display_data"
    }
   ],
   "source": [
    "%%time\n",
    "\n",
    "plot_parameters = {\n",
    "    'rl_i': dict(nicename='total liquid water', units='[kg]', reduce='3D_sum'),\n",
    "    'rc_i': dict(nicename='total cloud water', units='[kg]', reduce='3D_sum'),\n",
    "    'rr_i': dict(nicename='total rain water', units='[kg]', reduce='3D_sum'),\n",
    "    'rt_i': dict(nicename='total water', units='[kg]', reduce='3D_sum'),\n",
    "    'cb_z': dict(nicename='cloud base', units='[m]', reduce='2D_min'),\n",
    "    'ct_z': dict(nicename='cloud top', units='[m]', reduce='2D_max'),\n",
    "    'prflux_s': dict(nicename='surface precipitation flux', units='[W/m$^2$]', reduce='2D_mean'),\n",
    "    'prflux_cb': dict(nicename='cloud base (700m) precipitation flux', units='[W/m$^2$]', reduce='2D_mean'),\n",
    "    'acc_precip_s': dict(nicename='accumulated surface precipitation', units='[mm]', reduce='none'),\n",
    "    'acc_precip_cb': dict(nicename='accumulated cloud base (700m) precipitation', units='[mm]', reduce='2D_sum'),\n",
    "}\n",
    "\n",
    "for varname, params in plot_parameters.items():\n",
    "    for sdname in data:\n",
    "        # some vars need to be calculated (TODO: move it to calculate.py?)\n",
    "        if varname == 'prflux_s':\n",
    "            _data=data[sdname]['prflux'].sel(z=0, method='nearest')\n",
    "        elif varname == 'prflux_cb':\n",
    "            #_data=data[sdname]['prflux'].sel(z=data[sdname]['cb_z'].min([\"x\",\"y\"]), method='nearest')\n",
    "            _data=data[sdname]['prflux'].sel(z=700, method='nearest')\n",
    "        elif varname == 'acc_precip_s':\n",
    "            _data=data[sdname]['puddle_liquid_volume']/data[sdname]['surf_area']*1e3\n",
    "        elif varname == 'acc_precip_cb':\n",
    "            #_data=data[sdname]['prflux'].sel(z=data[sdname]['cb_z'].min([\"x\",\"y\"]), method='nearest') \\\n",
    "            #    / xrU.L_evap * data[sdname].outfreq * data[sdname].dt\n",
    "            _data=data[sdname]['prflux'].sel(z=700, method='nearest') \\\n",
    "                / xrU.L_evap * data[sdname].outfreq * data[sdname].dt\n",
    "            _data=_data.cumsum()\n",
    "        elif varname == 'rt_i':\n",
    "            _data=data[sdname]['rt'] * data[sdname]['rhod'] * data[sdname]['dv'] / 1e3\n",
    "        elif varname == 'rl_i':\n",
    "            _data=data[sdname]['rl'] * data[sdname]['rhod'] * data[sdname]['dv'] / 1e3\n",
    "        elif varname == 'rc_i':\n",
    "            _data=data[sdname]['rc'] * data[sdname]['rhod'] * data[sdname]['dv'] / 1e3\n",
    "        elif varname == 'rr_i':\n",
    "            _data=data[sdname]['rr'] * data[sdname]['rhod'] * data[sdname]['dv'] / 1e3\n",
    "        else:\n",
    "            _data=data[sdname][varname]\n",
    "            \n",
    "        if params['reduce']=='3D_mean':\n",
    "            res=_data.mean([\"x\",\"y\",\"z\"])\n",
    "        elif params['reduce']=='3D_sum':\n",
    "            res=_data.sum([\"x\",\"y\",\"z\"])\n",
    "        elif params['reduce']=='2D_mean':\n",
    "            res=_data.mean([\"x\",\"y\"])\n",
    "        elif params['reduce']=='2D_sum':\n",
    "            res=_data.sum([\"x\",\"y\"])\n",
    "        elif params['reduce']=='2D_min':\n",
    "            res=_data.min([\"x\",\"y\"])\n",
    "        elif params['reduce']=='2D_max':\n",
    "            res=_data.max([\"x\",\"y\"])\n",
    "        elif params['reduce']=='none':\n",
    "            res=_data\n",
    "        res.to_dataset(name=varname).to_netcdf(ncoutdir+\"/series/res\"+str(resolution_to_plot)+\"_\"+str(aerosol_to_plot)+\"_series.nc\", group=sdname, mode='a', engine='h5netcdf')\n",
    "        res.plot(xlim=(6000,None), label=sdname)\n",
    "    \n",
    "\n",
    "    \n",
    "    plt.legend()\n",
    "    plt.xlabel('t [s]')\n",
    "    plt.ylabel(params['nicename']+' '+params['units'])\n",
    "    plt.title('')\n",
    "    #plt.show()\n",
    "    plt.savefig(figoutdir+\"/series/res\"+str(resolution_to_plot)+\"_\"+str(varname)+\"_\"+str(aerosol_to_plot)+\"_series.png\", dpi=300)\n",
    "    plt.clf()"
   ]
  },
  {
   "cell_type": "code",
   "execution_count": null,
   "id": "545a39a1-8e44-41b7-afee-3cbbc16d5d31",
   "metadata": {},
   "outputs": [],
   "source": [
    "_data.qc.sel(t=7300, method='nearest').mean([\"y\"]).plot(x=\"x\")"
   ]
  },
  {
   "cell_type": "code",
   "execution_count": null,
   "id": "e2ada30e-ae8b-485e-80cb-007da04e3b01",
   "metadata": {},
   "outputs": [],
   "source": [
    "_data.sd_conc.mean([\"x\",\"y\",\"z\"]).plot()"
   ]
  },
  {
   "cell_type": "code",
   "execution_count": null,
   "id": "369285f4-6c16-4d43-86c2-2fbbfb226c19",
   "metadata": {},
   "outputs": [],
   "source": [
    "_data.puddle_water_number.plot()"
   ]
  },
  {
   "cell_type": "code",
   "execution_count": null,
   "id": "3a6038af-3651-48a3-8d2e-6906137a3b2f",
   "metadata": {},
   "outputs": [],
   "source": [
    "#_data.sd_conc.sel(t=1, method='nearest').values\n",
    "_data"
   ]
  },
  {
   "cell_type": "code",
   "execution_count": null,
   "id": "fa9a0453-10af-48a4-9006-29122b60fc66",
   "metadata": {},
   "outputs": [],
   "source": [
    "_data.nr.where(_data.t<8000).where(_data.qc>0.1).mean([\"x\",\"y\",\"t\"]).plot(y=\"z\",ylim=(0,6000))"
   ]
  },
  {
   "cell_type": "code",
   "execution_count": null,
   "id": "6b6b97d3-c444-4efc-90c3-4eca699fb4c2",
   "metadata": {},
   "outputs": [],
   "source": [
    "data.w.where(data.t<8000).where(data.qc>0.1).mean([\"x\",\"y\",\"t\"]).plot(y=\"z\",ylim=(0,6000))"
   ]
  },
  {
   "cell_type": "code",
   "execution_count": null,
   "id": "74f2abac-bbc4-4e10-94e4-ac4f41040003",
   "metadata": {},
   "outputs": [],
   "source": [
    "data.na.where(data.t<8000).where(data.qc>0.1).mean([\"x\",\"y\",\"t\"]).plot(y=\"z\",ylim=(0,6000))"
   ]
  },
  {
   "cell_type": "code",
   "execution_count": null,
   "id": "5fa663ab-f57f-4324-890b-0c2aec62d0c2",
   "metadata": {},
   "outputs": [],
   "source": [
    "data.nr.where(data.t<8000).where(data.qc>0.1).mean([\"x\",\"y\",\"t\"]).plot(y=\"z\",ylim=(0,6000))"
   ]
  },
  {
   "cell_type": "code",
   "execution_count": null,
   "id": "b70fef70-146d-48b9-b23f-f85f3136a6ba",
   "metadata": {},
   "outputs": [],
   "source": [
    "data.cloud_rw_mom0.where(data.t<8000).where(data.cloud_rw_mom3>1e-7).mean([\"x\",\"y\",\"t\"]).plot(y=\"z\",ylim=(0,6000))"
   ]
  },
  {
   "cell_type": "code",
   "execution_count": null,
   "id": "f1e81080-a971-4d36-9c19-228a97e8b55d",
   "metadata": {},
   "outputs": [],
   "source": [
    "data.puddle_liquid_volume.plot()"
   ]
  },
  {
   "cell_type": "code",
   "execution_count": null,
   "id": "9e555dc0-53ff-432c-bd99-2c9eadec4739",
   "metadata": {},
   "outputs": [],
   "source": [
    "data"
   ]
  },
  {
   "cell_type": "code",
   "execution_count": null,
   "id": "cec12128-caae-4b7c-b045-341e6986ee24",
   "metadata": {},
   "outputs": [],
   "source": []
  }
 ],
 "metadata": {
  "kernelspec": {
   "display_name": "Python 3 (ipykernel)",
   "language": "python",
   "name": "python3"
  },
  "language_info": {
   "codemirror_mode": {
    "name": "ipython",
    "version": 3
   },
   "file_extension": ".py",
   "mimetype": "text/x-python",
   "name": "python",
   "nbconvert_exporter": "python",
   "pygments_lexer": "ipython3",
   "version": "3.11.5"
  }
 },
 "nbformat": 4,
 "nbformat_minor": 5
}
